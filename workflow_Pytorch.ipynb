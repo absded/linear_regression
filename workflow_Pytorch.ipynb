{
  "nbformat": 4,
  "nbformat_minor": 0,
  "metadata": {
    "colab": {
      "provenance": [],
      "authorship_tag": "ABX9TyOT+gPi2XjoF4FtbfUAvDc/",
      "include_colab_link": true
    },
    "kernelspec": {
      "name": "python3",
      "display_name": "Python 3"
    },
    "language_info": {
      "name": "python"
    },
    "gpuClass": "standard"
  },
  "cells": [
    {
      "cell_type": "markdown",
      "metadata": {
        "id": "view-in-github",
        "colab_type": "text"
      },
      "source": [
        "<a href=\"https://colab.research.google.com/github/dpnnmlai/linear_regression/blob/main/workflow_Pytorch.ipynb\" target=\"_parent\"><img src=\"https://colab.research.google.com/assets/colab-badge.svg\" alt=\"Open In Colab\"/></a>"
      ]
    },
    {
      "cell_type": "code",
      "execution_count": null,
      "metadata": {
        "colab": {
          "base_uri": "https://localhost:8080/",
          "height": 36
        },
        "id": "lT7G2WC-6Z4Y",
        "outputId": "9e5294aa-c4ad-4949-9ebe-e183871cae23"
      },
      "outputs": [
        {
          "output_type": "execute_result",
          "data": {
            "text/plain": [
              "'1.13.1+cu116'"
            ],
            "application/vnd.google.colaboratory.intrinsic+json": {
              "type": "string"
            }
          },
          "metadata": {},
          "execution_count": 47
        }
      ],
      "source": [
        "import torch\n",
        "from torch import nn # nn contains all of Pytorch's building blocks for neural networks\n",
        "import matplotlib.pyplot as plt\n",
        "\n",
        "# Check the pytorch verison\n",
        "torch.__version__  "
      ]
    },
    {
      "cell_type": "code",
      "source": [
        "# Create *Known* parameters\n",
        "w = 17\n",
        "b = 3\n",
        "\n",
        "# Create a data\n",
        "start = 0\n",
        "end = 1 \n",
        "step = 0.02\n",
        "X = torch.arange(start, end, step).unsqueeze(dim=1)\n",
        "y = w * X + b\n",
        "\n",
        "X[:42], y[:42]"
      ],
      "metadata": {
        "colab": {
          "base_uri": "https://localhost:8080/"
        },
        "id": "3dbGEE3cc53h",
        "outputId": "0aebeffe-0a7f-4adc-c52a-b2402b570f47"
      },
      "execution_count": null,
      "outputs": [
        {
          "output_type": "execute_result",
          "data": {
            "text/plain": [
              "(tensor([[0.0000],\n",
              "         [0.0200],\n",
              "         [0.0400],\n",
              "         [0.0600],\n",
              "         [0.0800],\n",
              "         [0.1000],\n",
              "         [0.1200],\n",
              "         [0.1400],\n",
              "         [0.1600],\n",
              "         [0.1800],\n",
              "         [0.2000],\n",
              "         [0.2200],\n",
              "         [0.2400],\n",
              "         [0.2600],\n",
              "         [0.2800],\n",
              "         [0.3000],\n",
              "         [0.3200],\n",
              "         [0.3400],\n",
              "         [0.3600],\n",
              "         [0.3800],\n",
              "         [0.4000],\n",
              "         [0.4200],\n",
              "         [0.4400],\n",
              "         [0.4600],\n",
              "         [0.4800],\n",
              "         [0.5000],\n",
              "         [0.5200],\n",
              "         [0.5400],\n",
              "         [0.5600],\n",
              "         [0.5800],\n",
              "         [0.6000],\n",
              "         [0.6200],\n",
              "         [0.6400],\n",
              "         [0.6600],\n",
              "         [0.6800],\n",
              "         [0.7000],\n",
              "         [0.7200],\n",
              "         [0.7400],\n",
              "         [0.7600],\n",
              "         [0.7800],\n",
              "         [0.8000],\n",
              "         [0.8200]]), tensor([[ 3.0000],\n",
              "         [ 3.3400],\n",
              "         [ 3.6800],\n",
              "         [ 4.0200],\n",
              "         [ 4.3600],\n",
              "         [ 4.7000],\n",
              "         [ 5.0400],\n",
              "         [ 5.3800],\n",
              "         [ 5.7200],\n",
              "         [ 6.0600],\n",
              "         [ 6.4000],\n",
              "         [ 6.7400],\n",
              "         [ 7.0800],\n",
              "         [ 7.4200],\n",
              "         [ 7.7600],\n",
              "         [ 8.1000],\n",
              "         [ 8.4400],\n",
              "         [ 8.7800],\n",
              "         [ 9.1200],\n",
              "         [ 9.4600],\n",
              "         [ 9.8000],\n",
              "         [10.1400],\n",
              "         [10.4800],\n",
              "         [10.8200],\n",
              "         [11.1600],\n",
              "         [11.5000],\n",
              "         [11.8400],\n",
              "         [12.1800],\n",
              "         [12.5200],\n",
              "         [12.8600],\n",
              "         [13.2000],\n",
              "         [13.5400],\n",
              "         [13.8800],\n",
              "         [14.2200],\n",
              "         [14.5600],\n",
              "         [14.9000],\n",
              "         [15.2400],\n",
              "         [15.5800],\n",
              "         [15.9200],\n",
              "         [16.2600],\n",
              "         [16.6000],\n",
              "         [16.9400]]))"
            ]
          },
          "metadata": {},
          "execution_count": 48
        }
      ]
    },
    {
      "cell_type": "code",
      "source": [
        "# Create train / test split\n",
        "train_split = int(0.7 * len(X)) # 70% of the data is used for the traning and the 20% for testing]\n",
        "X_train, y_train = X[:train_split], y[:train_split]\n",
        "X_test, y_test = X[:train_split], y[:train_split]\n",
        "\n",
        "len (X_train), len(y_train), len(X_test), len(y_test)"
      ],
      "metadata": {
        "colab": {
          "base_uri": "https://localhost:8080/"
        },
        "id": "PECJArp-c6Bz",
        "outputId": "ed771b1f-edbd-4e80-d4e3-a70122aa5ce7"
      },
      "execution_count": null,
      "outputs": [
        {
          "output_type": "execute_result",
          "data": {
            "text/plain": [
              "(35, 35, 35, 35)"
            ]
          },
          "metadata": {},
          "execution_count": 49
        }
      ]
    },
    {
      "cell_type": "code",
      "source": [
        "def plot_predictions(train_data =X_train,\n",
        "             train_labels=y_train,\n",
        "             test_data=X_test,\n",
        "             test_labels=y_test,\n",
        "             predictions=None):\n",
        "  \"\"\"\n",
        "  Plots training data, test data and comapres predictions.\n",
        "  \"\"\"\n",
        "  plt.figure(figsize=(8, 6))\n",
        "\n",
        "  # Plot traning data in blue\n",
        "  plt.scatter(train_data, train_labels, c=\"b\", s=4, label=\"Training Data\")\n",
        "\n",
        "  # Plot traning data in green\n",
        "  plt.scatter(test_data, test_labels, c=\"g\", s=4, label=\"Testing Data\")\n",
        "\n",
        "\n",
        "  if predictions is not None:\n",
        "    # Plot the predictions in red (predictions were made on the test data)\n",
        "    plt.scatter(test_data, predictions, c=\"r\", s=4, label=\"Predictions\")\n",
        "\n",
        "  # Show the legend\n",
        "  plt.legend(prop={\"size\": 12});"
      ],
      "metadata": {
        "id": "-qdsP_zKc6I2"
      },
      "execution_count": null,
      "outputs": []
    },
    {
      "cell_type": "code",
      "source": [
        "plot_predictions();"
      ],
      "metadata": {
        "id": "3z1sbAA0c6O0",
        "colab": {
          "base_uri": "https://localhost:8080/",
          "height": 374
        },
        "outputId": "00e4fc06-5682-4f3b-8186-ff4062769281"
      },
      "execution_count": null,
      "outputs": [
        {
          "output_type": "display_data",
          "data": {
            "text/plain": [
              "<Figure size 576x432 with 1 Axes>"
            ],
            "image/png": "[encoded data removed]"
          },
          "metadata": {
            "needs_background": "light"
          }
        }
      ]
    },
    {
      "cell_type": "code",
      "source": [
        "import torch\n",
        "from torch import nn\n",
        "import matplotlib.pyplot as plt\n"
      ],
      "metadata": {
        "id": "3Qh1eGPXD--K"
      },
      "execution_count": null,
      "outputs": []
    },
    {
      "cell_type": "code",
      "source": [
        "# Create a Linear Regression model class \n",
        "class L_R_model(nn.Module): # <- almost everything in PyTorch is a nn.Module (think of this as neural network lego \n",
        "  def __init__(self):\n",
        "    super().__init__()\n",
        "    self.weights = nn.Parameter(torch.randn(42, \n",
        "                                            dtype=torch.float,\n",
        "                                requires_grad=True))\n",
        "    self.bias = nn.Parameter(torch.randn(42\n",
        "                                         ,\n",
        "                                         dtype=torch.float,\n",
        "                             requires_grad=True))\n",
        "    # Forward defines the computation in the model\n",
        "    def forward(self, x: torch.Tensor) -> torch.Tensor: # <- \"x\" is the input data (e.g. training/testing features)\n",
        "      return self.weights * x + self.bias # <- this is the linear regression formula (y = m*x + b)"
      ],
      "metadata": {
        "id": "b915X4G4c6U6"
      },
      "execution_count": null,
      "outputs": []
    },
    {
      "cell_type": "code",
      "source": [
        "# Set manual seed since nn.Parameter are randomly initialzied \n",
        "torch.manual_seed(42)\n",
        "\n",
        "# Create an instance of the model (this is subclass of nn.Module )\n",
        "model_0 = L_R_model()\n",
        "\n",
        "# Check the nn.paramter(s) within the nn.Module subclass we created.\n",
        "list(model_0.parameters())"
      ],
      "metadata": {
        "id": "8aqSFkXUc6bX",
        "colab": {
          "base_uri": "https://localhost:8080/"
        },
        "outputId": "824a4004-30a6-4781-b1da-d4de63133fac"
      },
      "execution_count": null,
      "outputs": [
        {
          "output_type": "execute_result",
          "data": {
            "text/plain": [
              "[Parameter containing:\n",
              " tensor([ 1.9269,  1.4873,  0.9007, -2.1055,  0.6784, -1.2345, -0.0431, -1.6047,\n",
              "         -0.7521,  1.6487, -0.3925, -1.4036, -0.7279, -0.5594, -0.7688,  0.7624,\n",
              "          1.6423, -0.1596, -0.4974,  0.4396, -0.7581,  1.0783,  0.8008,  1.6806,\n",
              "          1.2791,  1.2964,  1.5736, -0.8455,  1.3123,  0.6872, -1.0892, -0.3553,\n",
              "         -0.9138, -0.6581,  0.0499,  2.2667,  1.1790, -0.4345, -1.3864, -1.2862,\n",
              "         -1.4032,  0.0360], requires_grad=True), Parameter containing:\n",
              " tensor([ 1.8113e+00,  1.6056e-01,  3.6725e-01,  1.7541e-01,  1.3852e+00,\n",
              "         -4.4585e-01,  1.4451e+00,  8.5641e-01, -1.0759e+00,  5.3565e-01,\n",
              "          1.1754e+00,  5.6117e-01, -4.5275e-01, -7.7178e-01, -1.7219e-01,\n",
              "          5.2379e-01,  8.6540e-03, -1.4229e-01,  1.9707e-01, -1.1441e+00,\n",
              "          3.3832e-01,  1.6992e+00,  1.0868e-02, -3.3874e-01, -8.9808e-02,\n",
              "          4.5844e-01,  6.4076e-01,  5.8325e-01,  1.0669e+00, -4.5015e-01,\n",
              "         -6.7875e-01,  5.7432e-01,  1.8775e-01, -3.5762e-01,  2.6491e-01,\n",
              "          1.2732e+00, -1.3109e-03, -3.0360e-01, -9.8644e-01,  1.2330e-01,\n",
              "          3.4987e-01,  6.1728e-01], requires_grad=True)]"
            ]
          },
          "metadata": {},
          "execution_count": 54
        }
      ]
    },
    {
      "cell_type": "code",
      "source": [
        "# List named parameters \n",
        "\n",
        "model_0.state_dict()"
      ],
      "metadata": {
        "id": "ZKT064nyc6hk",
        "colab": {
          "base_uri": "https://localhost:8080/"
        },
        "outputId": "7633e2ba-c183-48b2-b550-fbc492cfae1f"
      },
      "execution_count": null,
      "outputs": [
        {
          "output_type": "execute_result",
          "data": {
            "text/plain": [
              "OrderedDict([('weights',\n",
              "              tensor([ 1.9269,  1.4873,  0.9007, -2.1055,  0.6784, -1.2345, -0.0431, -1.6047,\n",
              "                      -0.7521,  1.6487, -0.3925, -1.4036, -0.7279, -0.5594, -0.7688,  0.7624,\n",
              "                       1.6423, -0.1596, -0.4974,  0.4396, -0.7581,  1.0783,  0.8008,  1.6806,\n",
              "                       1.2791,  1.2964,  1.5736, -0.8455,  1.3123,  0.6872, -1.0892, -0.3553,\n",
              "                      -0.9138, -0.6581,  0.0499,  2.2667,  1.1790, -0.4345, -1.3864, -1.2862,\n",
              "                      -1.4032,  0.0360])),\n",
              "             ('bias',\n",
              "              tensor([ 1.8113e+00,  1.6056e-01,  3.6725e-01,  1.7541e-01,  1.3852e+00,\n",
              "                      -4.4585e-01,  1.4451e+00,  8.5641e-01, -1.0759e+00,  5.3565e-01,\n",
              "                       1.1754e+00,  5.6117e-01, -4.5275e-01, -7.7178e-01, -1.7219e-01,\n",
              "                       5.2379e-01,  8.6540e-03, -1.4229e-01,  1.9707e-01, -1.1441e+00,\n",
              "                       3.3832e-01,  1.6992e+00,  1.0868e-02, -3.3874e-01, -8.9808e-02,\n",
              "                       4.5844e-01,  6.4076e-01,  5.8325e-01,  1.0669e+00, -4.5015e-01,\n",
              "                      -6.7875e-01,  5.7432e-01,  1.8775e-01, -3.5762e-01,  2.6491e-01,\n",
              "                       1.2732e+00, -1.3109e-03, -3.0360e-01, -9.8644e-01,  1.2330e-01,\n",
              "                       3.4987e-01,  6.1728e-01]))])"
            ]
          },
          "metadata": {},
          "execution_count": 55
        }
      ]
    },
    {
      "cell_type": "code",
      "source": [
        " # make predictions with model \n",
        "with torch.inference_mode():\n",
        " y_preds = model_0(X_test)"
      ],
      "metadata": {
        "id": "-W4yNNoJc6my",
        "colab": {
          "base_uri": "https://localhost:8080/",
          "height": 133
        },
        "outputId": "5cf58a6d-8846-4631-c352-17979e1b630e"
      },
      "execution_count": null,
      "outputs": [
        {
          "output_type": "error",
          "ename": "IndentationError",
          "evalue": "ignored",
          "traceback": [
            "\u001b[0;36m  File \u001b[0;32m\"<ipython-input-56-01211c31ea12>\"\u001b[0;36m, line \u001b[0;32m3\u001b[0m\n\u001b[0;31m    y_preds = model_0(X_test)\u001b[0m\n\u001b[0m    ^\u001b[0m\n\u001b[0;31mIndentationError\u001b[0m\u001b[0;31m:\u001b[0m expected an indented block\n"
          ]
        }
      ]
    },
    {
      "cell_type": "code",
      "source": [],
      "metadata": {
        "id": "YlH6pHRlCMEd"
      },
      "execution_count": null,
      "outputs": []
    },
    {
      "cell_type": "code",
      "source": [],
      "metadata": {
        "id": "gstf6WQpCMMR"
      },
      "execution_count": null,
      "outputs": []
    },
    {
      "cell_type": "code",
      "source": [],
      "metadata": {
        "id": "6hlaN0C_CMUI"
      },
      "execution_count": null,
      "outputs": []
    },
    {
      "cell_type": "code",
      "source": [],
      "metadata": {
        "id": "xQzd7UJQCMbg"
      },
      "execution_count": null,
      "outputs": []
    },
    {
      "cell_type": "code",
      "source": [],
      "metadata": {
        "id": "is3YMbbKCMiy"
      },
      "execution_count": null,
      "outputs": []
    }
  ]
}